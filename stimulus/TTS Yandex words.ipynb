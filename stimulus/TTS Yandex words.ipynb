{
 "cells": [
  {
   "cell_type": "code",
   "execution_count": null,
   "metadata": {},
   "outputs": [],
   "source": [
    "import os\n",
    "import io\n",
    "import requests\n",
    "import uuid\n",
    "import json\n",
    "import wave\n",
    "import warnings\n",
    "import pandas as pd\n",
    "\n",
    "import numpy as np\n",
    "from scipy.io.wavfile import read, write\n",
    "from IPython.display import Audio\n",
    "import scipy.signal as sg\n",
    "import matplotlib.pyplot as plt\n",
    "from tqdm import tqdm\n",
    "import yaml"
   ]
  },
  {
   "cell_type": "code",
   "execution_count": null,
   "metadata": {},
   "outputs": [],
   "source": [
    "yaml_path = 'yandex_api.yaml'\n",
    "with open(yaml_path, 'r') as file:\n",
    "    config = yaml.safe_load(file)"
   ]
  },
  {
   "cell_type": "code",
   "execution_count": null,
   "metadata": {},
   "outputs": [],
   "source": [
    "url = config['yandex_tts']['api_url']\n",
    "oauth_token = config['yandex_tts']['iam_token']\n",
    "folder_id = config['yandex_tts']['folder_id']"
   ]
  },
  {
   "cell_type": "code",
   "execution_count": null,
   "metadata": {},
   "outputs": [],
   "source": [
    "headers = {'Content-Type': 'application/json'}\n",
    "data = '{\"yandexPassportOauthToken\":\"%s\"}' % oauth_token\n",
    "\n",
    "response = requests.post(\"https://iam.api.cloud.yandex.net/iam/v1/tokens\", headers=headers, data=data)\n",
    "iam_token = response.json()['iamToken']\n",
    "print(iam_token)"
   ]
  },
  {
   "cell_type": "code",
   "execution_count": null,
   "metadata": {},
   "outputs": [],
   "source": [
    "headers = {\"Authorization\": \"Bearer \" + iam_token}\n",
    "response = requests.get(\"https://resource-manager.api.cloud.yandex.net/resource-manager/v1/clouds\", headers=headers)\n",
    "json_data = json.loads(response.text)\n",
    "print(response.text)"
   ]
  },
  {
   "cell_type": "code",
   "execution_count": null,
   "metadata": {},
   "outputs": [],
   "source": [
    "def synthesize(text, iam_token, folder_id, voice, speed, path_save):\n",
    "    url = 'https://tts.api.cloud.yandex.net/speech/v1/tts:synthesize'\n",
    "    headers = {\n",
    "        'Authorization': 'Bearer ' + iam_token,\n",
    "    }\n",
    "\n",
    "    data = {\n",
    "        'text': text,\n",
    "        'lang': 'ru-RU',\n",
    "        'voice': voice,\n",
    "        'folderId': folder_id,\n",
    "        'format': 'lpcm',\n",
    "        'speed': speed,\n",
    "        'sampleRateHertz': 48000,\n",
    "    }\n",
    "\n",
    "    with warnings.catch_warnings():\n",
    "        warnings.simplefilter(\"ignore\")\n",
    "        response_sound = requests.post(url, headers=headers, data=data, verify=False)\n",
    "        assert response_sound.status_code == 200, response_sound.status_code\n",
    "\n",
    "        audio = np.frombuffer(response_sound.content, dtype=np.int16)\n",
    "        \n",
    "    write(path_save, rate=48000, data=audio)\n",
    "    return audio"
   ]
  },
  {
   "cell_type": "code",
   "execution_count": null,
   "metadata": {},
   "outputs": [],
   "source": [
    "df = pd.read_excel('База_слов_021523.xls')\n",
    "df_subset = df.copy()\n",
    "df_subset = df_subset[df_subset['5 Фонем'] != 0]\n",
    "df_subset = df_subset[df_subset['Подходил ли по смыслу'] != 0]\n",
    "df_subset = df_subset[df_subset['voice = \\'Филипп\\'\\nspeed = 0.8'] != 0]\n",
    "accents = df_subset['5 Фонем'].values\n",
    "words_splits = [accent.split('\\'') for accent in accents]\n",
    "words_txt = [''.join(split) for split in words_splits]\n",
    "accents_tts = [(split[0][:-1] + '+' + split[0][-1] + split[1]) for split in words_splits]"
   ]
  },
  {
   "cell_type": "code",
   "execution_count": null,
   "metadata": {},
   "outputs": [],
   "source": [
    "with open(\"words_021523.txt\", \"w\", encoding=\"utf8\") as file:\n",
    "    for word in words_txt:\n",
    "        file.write(word + \"\\n\")"
   ]
  },
  {
   "cell_type": "code",
   "execution_count": null,
   "metadata": {},
   "outputs": [],
   "source": [
    "voices = {\n",
    "    'Алена':'alena',\n",
    "    'Филипп':'filipp', \n",
    "    'Ермил':'ermil', \n",
    "    'Женя':'jane', \n",
    "    'Мадирус':'madirus', \n",
    "    'Оммаж':'omazh',\n",
    "    'Захар':'zahar',\n",
    "}"
   ]
  },
  {
   "cell_type": "code",
   "execution_count": null,
   "metadata": {},
   "outputs": [],
   "source": [
    "voices_names = ['Филипп', 'Женя']\n",
    "speeds = [0.6, 0.8]\n",
    "# [0.1, 0.3, 0.5, 0.7, 1]"
   ]
  },
  {
   "cell_type": "code",
   "execution_count": null,
   "metadata": {},
   "outputs": [],
   "source": [
    "line = 'Они пересказывали друг дружке, где они сегодня побывали и где какой хороший корм находили; а одна из них и говорит с досадою:'"
   ]
  },
  {
   "cell_type": "code",
   "execution_count": null,
   "metadata": {},
   "outputs": [],
   "source": [
    "voice = 'Филипп'\n",
    "speed = 0.7\n",
    "line_encoded = line.encode('utf-8')\n",
    "\n",
    "dir_save = f'sounds/yandex_test/{voice}/speed{int(speed*10)}/text/'\n",
    "os.makedirs(dir_save, exist_ok=True)\n",
    "\n",
    "file_save = f'test.wav'\n",
    "path_save = dir_save + file_save\n",
    "audio = synthesize(line_encoded, iam_token, folder_id, voice=voices[voice], speed=speed, path_save=path_save)"
   ]
  },
  {
   "cell_type": "code",
   "execution_count": null,
   "metadata": {},
   "outputs": [],
   "source": [
    "sr = 48000\n",
    "Audio(data=audio, rate=sr, autoplay=False)"
   ]
  },
  {
   "cell_type": "code",
   "execution_count": null,
   "metadata": {},
   "outputs": [],
   "source": [
    "accents_tts[818]"
   ]
  },
  {
   "cell_type": "code",
   "execution_count": null,
   "metadata": {},
   "outputs": [],
   "source": [
    "# audios = []\n",
    "voices_names = ['Филипп', 'Женя']\n",
    "speeds = 0.8\n",
    "\n",
    "for voice in voices_names:\n",
    "    for speed in speeds:\n",
    "        for index, line_accent in tqdm(enumerate(accents_tts)):\n",
    "            line_accent_encoded = line_accent.encode('utf-8')\n",
    "\n",
    "            dir_save = f'sounds/yandex/{voice}/speed{int(speed*10)}/words/'\n",
    "            os.makedirs(dir_save, exist_ok=True)\n",
    "\n",
    "            file_save = f'{index+1}.wav'\n",
    "            path_save = dir_save + file_save\n",
    "            audio = synthesize(line_accent_encoded, iam_token, folder_id, voice=voices[voice], speed=speed, path_save=path_save)\n",
    "#             audios.append(audio)"
   ]
  },
  {
   "cell_type": "code",
   "execution_count": null,
   "metadata": {},
   "outputs": [],
   "source": []
  },
  {
   "cell_type": "code",
   "execution_count": null,
   "metadata": {},
   "outputs": [],
   "source": [
    "# audios = []\n",
    "voices_names = ['Филипп', 'Женя']\n",
    "speeds = [0.7, 0.8, 0.9, 1]\n",
    "\n",
    "for voice in voices_names:\n",
    "    for speed in speeds:\n",
    "        for index, line_accent in tqdm(enumerate(accents_tts)):\n",
    "            line_accent_encoded = line_accent.encode('utf-8')\n",
    "\n",
    "            dir_save = f'sounds/yandex/{voice}/speed{int(speed*10)}/words/'\n",
    "            os.makedirs(dir_save, exist_ok=True)\n",
    "\n",
    "            file_save = f'{index+1}.wav'\n",
    "            path_save = dir_save + file_save\n",
    "            audio = synthesize(line_accent_encoded, iam_token, folder_id, voice=voices[voice], speed=speed, path_save=path_save)\n",
    "#             audios.append(audio)"
   ]
  },
  {
   "cell_type": "code",
   "execution_count": null,
   "metadata": {},
   "outputs": [],
   "source": [
    "audios_cat = np.concatenate(audios)"
   ]
  },
  {
   "cell_type": "code",
   "execution_count": null,
   "metadata": {},
   "outputs": [],
   "source": [
    "sr = 48000\n",
    "Audio(data=audios_cat, rate=sr, autoplay=False)"
   ]
  },
  {
   "cell_type": "code",
   "execution_count": null,
   "metadata": {},
   "outputs": [],
   "source": [
    "text_paths = [f'texts/part{i}.txt' for i in range(4, 10)]"
   ]
  },
  {
   "cell_type": "code",
   "execution_count": null,
   "metadata": {},
   "outputs": [],
   "source": [
    "lines = []\n",
    "for text_path in text_paths:\n",
    "    with open(text_path, 'r', encoding=\"utf8\") as f:\n",
    "        line = [line.rstrip() for line in f][0]\n",
    "        lines.append(line)\n",
    "        print(len(line))"
   ]
  },
  {
   "cell_type": "code",
   "execution_count": null,
   "metadata": {},
   "outputs": [],
   "source": [
    "## voice = 'Филипп'\n",
    "# speed = 0.9\n",
    "\n",
    "# audios = []\n",
    "\n",
    "voices_names = ['Филипп', 'Женя']\n",
    "speeds = [0.7, 0.8, 0.9, 1]\n",
    "\n",
    "for voice in voices_names:\n",
    "    for speed in speeds:\n",
    "        for index, line in tqdm(enumerate(lines)):\n",
    "            line_encoded = line.encode('utf-8')\n",
    "\n",
    "            dir_save = f'sounds/yandex/{voice}/speed{int(speed*10)}/text_full/'\n",
    "            os.makedirs(dir_save, exist_ok=True)\n",
    "\n",
    "            file_save = f'{index+1}.wav'\n",
    "            path_save = dir_save + file_save\n",
    "            audio = synthesize(line_encoded, iam_token, folder_id, voice=voices[voice], speed=speed, path_save=path_save)\n",
    "        #     audios.append(audio)"
   ]
  },
  {
   "cell_type": "code",
   "execution_count": null,
   "metadata": {},
   "outputs": [],
   "source": [
    "lines"
   ]
  },
  {
   "cell_type": "code",
   "execution_count": null,
   "metadata": {},
   "outputs": [],
   "source": [
    "sr = 48000\n",
    "Audio(data=audios[3], rate=sr, autoplay=False)"
   ]
  }
 ],
 "metadata": {
  "kernelspec": {
   "display_name": "Python [conda env:root] *",
   "language": "python",
   "name": "conda-root-py"
  },
  "language_info": {
   "codemirror_mode": {
    "name": "ipython",
    "version": 3
   },
   "file_extension": ".py",
   "mimetype": "text/x-python",
   "name": "python",
   "nbconvert_exporter": "python",
   "pygments_lexer": "ipython3",
   "version": "3.10.10"
  }
 },
 "nbformat": 4,
 "nbformat_minor": 4
}
